{
  "nbformat": 4,
  "nbformat_minor": 0,
  "metadata": {
    "colab": {
      "provenance": [],
      "authorship_tag": "ABX9TyPUIu9c52rk6vaDD9YxG7Nw",
      "include_colab_link": true
    },
    "kernelspec": {
      "name": "python3",
      "display_name": "Python 3"
    },
    "language_info": {
      "name": "python"
    }
  },
  "cells": [
    {
      "cell_type": "markdown",
      "metadata": {
        "id": "view-in-github",
        "colab_type": "text"
      },
      "source": [
        "<a href=\"https://colab.research.google.com/github/Yanbelo/Aromatase/blob/main/ARC%20Prize%202024.ipynb\" target=\"_parent\"><img src=\"https://colab.research.google.com/assets/colab-badge.svg\" alt=\"Open In Colab\"/></a>"
      ]
    },
    {
      "cell_type": "markdown",
      "source": [
        "**Data Preprocessing**\n",
        "\n",
        "\n"
      ],
      "metadata": {
        "id": "KKUput5-JlA7"
      }
    },
    {
      "cell_type": "code",
      "execution_count": 2,
      "metadata": {
        "id": "K7ifixz3Iso_"
      },
      "outputs": [],
      "source": [
        "import json\n",
        "import numpy as np\n",
        "\n",
        "# Load the ARC data\n",
        "def load_arc_data(file_path):\n",
        "    with open(file_path, 'r') as f:\n",
        "        data = json.load(f)\n",
        "    return data\n",
        "\n",
        "# Paths to the JSON files\n",
        "evaluation_challenges_path = 'arc-agi_evaluation_challenges.json'\n",
        "evaluation_solutions_path = 'arc-agi_evaluation_solutions.json'\n",
        "test_challenges_path = 'arc-agi_test_challenges.json'\n",
        "training_challenges_path = 'arc-agi_training_challenges.json'\n",
        "training_solutions_path = 'arc-agi_training_solutions.json'\n",
        "\n",
        "# Load data\n",
        "evaluation_challenges = load_arc_data(evaluation_challenges_path)\n",
        "evaluation_solutions = load_arc_data(evaluation_solutions_path)\n",
        "test_challenges = load_arc_data(test_challenges_path)\n",
        "training_challenges = load_arc_data(training_challenges_path)\n",
        "training_solutions = load_arc_data(training_solutions_path)\n"
      ]
    },
    {
      "cell_type": "markdown",
      "source": [
        "**Neural Abstraction Network**"
      ],
      "metadata": {
        "id": "hOW9FZ4oJtVi"
      }
    },
    {
      "cell_type": "code",
      "source": [
        "import torch\n",
        "import torch.nn as nn\n",
        "\n",
        "class NeuralAbstractionNetwork(nn.Module):\n",
        "    def __init__(self, input_size, hidden_size, output_size):\n",
        "        super(NeuralAbstractionNetwork, self).__init__()\n",
        "        self.fc1 = nn.Linear(input_size, hidden_size)\n",
        "        self.fc2 = nn.Linear(hidden_size, output_size)\n",
        "\n",
        "    def forward(self, x):\n",
        "        x = torch.relu(self.fc1(x))\n",
        "        x = torch.softmax(self.fc2(x), dim=1)\n",
        "        return x\n",
        "\n",
        "# Example network parameters\n",
        "input_size = 9  # For a 3x3 input grid\n",
        "hidden_size = 128\n",
        "output_size = 10  # Number of abstract features\n",
        "\n",
        "net = NeuralAbstractionNetwork(input_size, hidden_size, output_size)\n"
      ],
      "metadata": {
        "id": "enJPXDhIJglN"
      },
      "execution_count": 3,
      "outputs": []
    },
    {
      "cell_type": "markdown",
      "source": [
        "**Perfornance of the model**"
      ],
      "metadata": {
        "id": "jZQKGh2NKUTD"
      }
    },
    {
      "source": [
        "# Training loop\n",
        "epochs = 10\n",
        "for epoch in range(epochs):\n",
        "    running_loss = 0.0\n",
        "    for i, (inputs, labels) in enumerate(zip(train_data, train_labels)):\n",
        "        # Zero the parameter gradients\n",
        "        optimizer.zero_grad()\n",
        "\n",
        "        # Forward pass\n",
        "        outputs = net(inputs.unsqueeze(0)) # Add a dimension to create a batch of size 1\n",
        "        loss = criterion(outputs, labels.unsqueeze(0)) # Add a dimension to create a batch of size 1\n",
        "\n",
        "        # Backward pass and optimize\n",
        "        loss.backward()\n",
        "        optimizer.step()\n",
        "\n",
        "        running_loss += loss.item()\n",
        "\n",
        "    # Validation\n",
        "    net.eval()  # Set the model to evaluation mode\n",
        "    with torch.no_grad():\n",
        "        val_outputs = net(val_data)\n",
        "        _, predicted = torch.max(val_outputs, 1)\n",
        "\n",
        "        val_accuracy = accuracy_score(val_labels, predicted)\n",
        "        val_precision = precision_score(val_labels, predicted, average='weighted')\n",
        "        val_recall = recall_score(val_labels, predicted, average='weighted')\n",
        "        val_f1 = f1_score(val_labels, predicted, average='weighted')\n",
        "\n",
        "    print(f\"Epoch {epoch+1}, Loss: {running_loss / len(train_data)}, Val Accuracy: {val_accuracy:.4f}, Val Precision: {val_precision:.4f}, Val Recall: {val_recall:.4f}, Val F1: {val_f1:.4f}\")\n",
        "\n",
        "    net.train()  # Set the model back to training mode"
      ],
      "cell_type": "code",
      "metadata": {
        "colab": {
          "base_uri": "https://localhost:8080/"
        },
        "id": "mfhv_4qmLDQK",
        "outputId": "7d32f6d4-b52e-417b-8b4a-9e886e0b6a10"
      },
      "execution_count": 5,
      "outputs": [
        {
          "output_type": "stream",
          "name": "stderr",
          "text": [
            "/usr/local/lib/python3.10/dist-packages/sklearn/metrics/_classification.py:1531: UndefinedMetricWarning: Precision is ill-defined and being set to 0.0 in labels with no predicted samples. Use `zero_division` parameter to control this behavior.\n",
            "  _warn_prf(average, modifier, f\"{metric.capitalize()} is\", len(result))\n",
            "/usr/local/lib/python3.10/dist-packages/sklearn/metrics/_classification.py:1531: UndefinedMetricWarning: Recall is ill-defined and being set to 0.0 in labels with no true samples. Use `zero_division` parameter to control this behavior.\n",
            "  _warn_prf(average, modifier, f\"{metric.capitalize()} is\", len(result))\n"
          ]
        },
        {
          "output_type": "stream",
          "name": "stdout",
          "text": [
            "Epoch 1, Loss: 2.302992308139801, Val Accuracy: 0.0500, Val Precision: 0.0187, Val Recall: 0.0500, Val F1: 0.0273\n"
          ]
        },
        {
          "output_type": "stream",
          "name": "stderr",
          "text": [
            "/usr/local/lib/python3.10/dist-packages/sklearn/metrics/_classification.py:1531: UndefinedMetricWarning: Precision is ill-defined and being set to 0.0 in labels with no predicted samples. Use `zero_division` parameter to control this behavior.\n",
            "  _warn_prf(average, modifier, f\"{metric.capitalize()} is\", len(result))\n",
            "/usr/local/lib/python3.10/dist-packages/sklearn/metrics/_classification.py:1531: UndefinedMetricWarning: Recall is ill-defined and being set to 0.0 in labels with no true samples. Use `zero_division` parameter to control this behavior.\n",
            "  _warn_prf(average, modifier, f\"{metric.capitalize()} is\", len(result))\n",
            "/usr/local/lib/python3.10/dist-packages/sklearn/metrics/_classification.py:1531: UndefinedMetricWarning: Precision is ill-defined and being set to 0.0 in labels with no predicted samples. Use `zero_division` parameter to control this behavior.\n",
            "  _warn_prf(average, modifier, f\"{metric.capitalize()} is\", len(result))\n",
            "/usr/local/lib/python3.10/dist-packages/sklearn/metrics/_classification.py:1531: UndefinedMetricWarning: Recall is ill-defined and being set to 0.0 in labels with no true samples. Use `zero_division` parameter to control this behavior.\n",
            "  _warn_prf(average, modifier, f\"{metric.capitalize()} is\", len(result))\n"
          ]
        },
        {
          "output_type": "stream",
          "name": "stdout",
          "text": [
            "Epoch 2, Loss: 2.2790220165252686, Val Accuracy: 0.1000, Val Precision: 0.0600, Val Recall: 0.1000, Val F1: 0.0750\n",
            "Epoch 3, Loss: 2.255213726758957, Val Accuracy: 0.1000, Val Precision: 0.0600, Val Recall: 0.1000, Val F1: 0.0750\n"
          ]
        },
        {
          "output_type": "stream",
          "name": "stderr",
          "text": [
            "/usr/local/lib/python3.10/dist-packages/sklearn/metrics/_classification.py:1531: UndefinedMetricWarning: Precision is ill-defined and being set to 0.0 in labels with no predicted samples. Use `zero_division` parameter to control this behavior.\n",
            "  _warn_prf(average, modifier, f\"{metric.capitalize()} is\", len(result))\n",
            "/usr/local/lib/python3.10/dist-packages/sklearn/metrics/_classification.py:1531: UndefinedMetricWarning: Recall is ill-defined and being set to 0.0 in labels with no true samples. Use `zero_division` parameter to control this behavior.\n",
            "  _warn_prf(average, modifier, f\"{metric.capitalize()} is\", len(result))\n",
            "/usr/local/lib/python3.10/dist-packages/sklearn/metrics/_classification.py:1531: UndefinedMetricWarning: Precision is ill-defined and being set to 0.0 in labels with no predicted samples. Use `zero_division` parameter to control this behavior.\n",
            "  _warn_prf(average, modifier, f\"{metric.capitalize()} is\", len(result))\n",
            "/usr/local/lib/python3.10/dist-packages/sklearn/metrics/_classification.py:1531: UndefinedMetricWarning: Recall is ill-defined and being set to 0.0 in labels with no true samples. Use `zero_division` parameter to control this behavior.\n",
            "  _warn_prf(average, modifier, f\"{metric.capitalize()} is\", len(result))\n"
          ]
        },
        {
          "output_type": "stream",
          "name": "stdout",
          "text": [
            "Epoch 4, Loss: 2.2289759504795073, Val Accuracy: 0.1000, Val Precision: 0.0750, Val Recall: 0.1000, Val F1: 0.0857\n",
            "Epoch 5, Loss: 2.2011146545410156, Val Accuracy: 0.1000, Val Precision: 0.0750, Val Recall: 0.1000, Val F1: 0.0857\n"
          ]
        },
        {
          "output_type": "stream",
          "name": "stderr",
          "text": [
            "/usr/local/lib/python3.10/dist-packages/sklearn/metrics/_classification.py:1531: UndefinedMetricWarning: Precision is ill-defined and being set to 0.0 in labels with no predicted samples. Use `zero_division` parameter to control this behavior.\n",
            "  _warn_prf(average, modifier, f\"{metric.capitalize()} is\", len(result))\n",
            "/usr/local/lib/python3.10/dist-packages/sklearn/metrics/_classification.py:1531: UndefinedMetricWarning: Recall is ill-defined and being set to 0.0 in labels with no true samples. Use `zero_division` parameter to control this behavior.\n",
            "  _warn_prf(average, modifier, f\"{metric.capitalize()} is\", len(result))\n",
            "/usr/local/lib/python3.10/dist-packages/sklearn/metrics/_classification.py:1531: UndefinedMetricWarning: Precision is ill-defined and being set to 0.0 in labels with no predicted samples. Use `zero_division` parameter to control this behavior.\n",
            "  _warn_prf(average, modifier, f\"{metric.capitalize()} is\", len(result))\n",
            "/usr/local/lib/python3.10/dist-packages/sklearn/metrics/_classification.py:1531: UndefinedMetricWarning: Recall is ill-defined and being set to 0.0 in labels with no true samples. Use `zero_division` parameter to control this behavior.\n",
            "  _warn_prf(average, modifier, f\"{metric.capitalize()} is\", len(result))\n"
          ]
        },
        {
          "output_type": "stream",
          "name": "stdout",
          "text": [
            "Epoch 6, Loss: 2.1731001114845276, Val Accuracy: 0.1000, Val Precision: 0.0750, Val Recall: 0.1000, Val F1: 0.0857\n",
            "Epoch 7, Loss: 2.145977529287338, Val Accuracy: 0.0500, Val Precision: 0.0500, Val Recall: 0.0500, Val F1: 0.0500\n"
          ]
        },
        {
          "output_type": "stream",
          "name": "stderr",
          "text": [
            "/usr/local/lib/python3.10/dist-packages/sklearn/metrics/_classification.py:1531: UndefinedMetricWarning: Precision is ill-defined and being set to 0.0 in labels with no predicted samples. Use `zero_division` parameter to control this behavior.\n",
            "  _warn_prf(average, modifier, f\"{metric.capitalize()} is\", len(result))\n",
            "/usr/local/lib/python3.10/dist-packages/sklearn/metrics/_classification.py:1531: UndefinedMetricWarning: Recall is ill-defined and being set to 0.0 in labels with no true samples. Use `zero_division` parameter to control this behavior.\n",
            "  _warn_prf(average, modifier, f\"{metric.capitalize()} is\", len(result))\n",
            "/usr/local/lib/python3.10/dist-packages/sklearn/metrics/_classification.py:1531: UndefinedMetricWarning: Precision is ill-defined and being set to 0.0 in labels with no predicted samples. Use `zero_division` parameter to control this behavior.\n",
            "  _warn_prf(average, modifier, f\"{metric.capitalize()} is\", len(result))\n",
            "/usr/local/lib/python3.10/dist-packages/sklearn/metrics/_classification.py:1531: UndefinedMetricWarning: Recall is ill-defined and being set to 0.0 in labels with no true samples. Use `zero_division` parameter to control this behavior.\n",
            "  _warn_prf(average, modifier, f\"{metric.capitalize()} is\", len(result))\n"
          ]
        },
        {
          "output_type": "stream",
          "name": "stdout",
          "text": [
            "Epoch 8, Loss: 2.1188208305835725, Val Accuracy: 0.0500, Val Precision: 0.0750, Val Recall: 0.0500, Val F1: 0.0600\n",
            "Epoch 9, Loss: 2.0913006818294524, Val Accuracy: 0.1000, Val Precision: 0.1625, Val Recall: 0.1000, Val F1: 0.0950\n",
            "Epoch 10, Loss: 2.0632248878479005, Val Accuracy: 0.1000, Val Precision: 0.1600, Val Recall: 0.1000, Val F1: 0.0917\n"
          ]
        },
        {
          "output_type": "stream",
          "name": "stderr",
          "text": [
            "/usr/local/lib/python3.10/dist-packages/sklearn/metrics/_classification.py:1531: UndefinedMetricWarning: Precision is ill-defined and being set to 0.0 in labels with no predicted samples. Use `zero_division` parameter to control this behavior.\n",
            "  _warn_prf(average, modifier, f\"{metric.capitalize()} is\", len(result))\n",
            "/usr/local/lib/python3.10/dist-packages/sklearn/metrics/_classification.py:1531: UndefinedMetricWarning: Recall is ill-defined and being set to 0.0 in labels with no true samples. Use `zero_division` parameter to control this behavior.\n",
            "  _warn_prf(average, modifier, f\"{metric.capitalize()} is\", len(result))\n"
          ]
        }
      ]
    },
    {
      "cell_type": "code",
      "source": [
        "# prompt: store the output of the model perfornance csv  in dataframe\n",
        "\n",
        "import pandas as pd\n",
        "\n",
        "# Assuming you have a list of dictionaries or a list of lists representing the model performance output\n",
        "# Example:\n",
        "model_performance_data = [\n",
        "    {'Epoch': 1, 'Loss': 0.5, 'Val Accuracy': 0.8, 'Val Precision': 0.75, 'Val Recall': 0.85, 'Val F1': 0.8},\n",
        "    {'Epoch': 2, 'Loss': 0.4, 'Val Accuracy': 0.85, 'Val Precision': 0.8, 'Val Recall': 0.9, 'Val F1': 0.85},\n",
        "    # ... more data\n",
        "]\n",
        "\n",
        "# Create a DataFrame from the data\n",
        "df = pd.DataFrame(model_performance_data)\n",
        "\n",
        "# Print the DataFrame\n",
        "print(df)\n"
      ],
      "metadata": {
        "colab": {
          "base_uri": "https://localhost:8080/"
        },
        "id": "s9GBCVRFLLhy",
        "outputId": "da92003b-4bfe-48e5-def9-846273357acb"
      },
      "execution_count": 7,
      "outputs": [
        {
          "output_type": "stream",
          "name": "stdout",
          "text": [
            "   Epoch  Loss  Val Accuracy  Val Precision  Val Recall  Val F1\n",
            "0      1   0.5          0.80           0.75        0.85    0.80\n",
            "1      2   0.4          0.85           0.80        0.90    0.85\n"
          ]
        }
      ]
    },
    {
      "cell_type": "code",
      "source": [],
      "metadata": {
        "id": "_a_IRDrtLiHr"
      },
      "execution_count": null,
      "outputs": []
    }
  ]
}